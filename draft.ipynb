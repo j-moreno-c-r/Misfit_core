{
 "cells": [
  {
   "cell_type": "code",
   "execution_count": 17,
   "metadata": {},
   "outputs": [],
   "source": [
    "from src.utils import bcli\n",
    "import json"
   ]
  },
  {
   "cell_type": "code",
   "execution_count": 18,
   "metadata": {},
   "outputs": [
    {
     "name": "stdout",
     "output_type": "stream",
     "text": [
      "misfit-wallet already exists\n"
     ]
    }
   ],
   "source": [
    "# Create a wallet\n",
    "try:\n",
    "    bcli(\"createwallet misfit-core\")\n",
    "except:\n",
    "    print(\"misfit-wallet already exists\")"
   ]
  },
  {
   "cell_type": "code",
   "execution_count": 19,
   "metadata": {},
   "outputs": [
    {
     "data": {
      "text/plain": [
       "'bcrt1q4hs29pvwyndf9370zfzvws7c8lmtpk3r427ltz'"
      ]
     },
     "execution_count": 19,
     "metadata": {},
     "output_type": "execute_result"
    }
   ],
   "source": [
    "# Generate new address for wallet\n",
    "addr = bcli(\"getnewaddress\")\n",
    "addr"
   ]
  },
  {
   "cell_type": "code",
   "execution_count": 20,
   "metadata": {},
   "outputs": [
    {
     "data": {
      "text/plain": [
       "'3712b08e0420ee37d5b4846525d55ef60b9043652451f0472769ea30a3a71ecf'"
      ]
     },
     "execution_count": 20,
     "metadata": {},
     "output_type": "execute_result"
    }
   ],
   "source": [
    "# Generate funds to the address\n",
    "blockhash = json.loads(bcli(f\"generatetoaddress 101 {addr}\"))[0]\n",
    "blockhash"
   ]
  },
  {
   "cell_type": "code",
   "execution_count": 21,
   "metadata": {},
   "outputs": [
    {
     "data": {
      "text/plain": [
       "{'hash': '3712b08e0420ee37d5b4846525d55ef60b9043652451f0472769ea30a3a71ecf',\n",
       " 'confirmations': 101,\n",
       " 'height': 252,\n",
       " 'version': 536870912,\n",
       " 'versionHex': '20000000',\n",
       " 'merkleroot': '72e184f19ed7abf61b5c50a3c9a215a515211e603a1b4ed3de911ec71dcaab06',\n",
       " 'time': 1740180081,\n",
       " 'mediantime': 1740172025,\n",
       " 'nonce': 1,\n",
       " 'bits': '207fffff',\n",
       " 'difficulty': 4.656542373906925e-10,\n",
       " 'chainwork': '00000000000000000000000000000000000000000000000000000000000001fa',\n",
       " 'nTx': 1,\n",
       " 'previousblockhash': '1aef74cd22c2636e9c53603471acd4a746f3039364dc389c25ca3f9647d6cd0f',\n",
       " 'nextblockhash': '3740867fca3c8cec8b0c96ccd98eff3c25282fee68fa6c95c5804491bcdea57a',\n",
       " 'strippedsize': 214,\n",
       " 'size': 250,\n",
       " 'weight': 892,\n",
       " 'tx': [{'txid': '72e184f19ed7abf61b5c50a3c9a215a515211e603a1b4ed3de911ec71dcaab06',\n",
       "   'hash': 'd93276d4c507fab0eb0b66b6e0a23f5179264311be0144171be4d7fb68920ca0',\n",
       "   'version': 2,\n",
       "   'size': 169,\n",
       "   'vsize': 142,\n",
       "   'weight': 568,\n",
       "   'locktime': 0,\n",
       "   'vin': [{'coinbase': '02fc0000',\n",
       "     'txinwitness': ['0000000000000000000000000000000000000000000000000000000000000000'],\n",
       "     'sequence': 4294967295}],\n",
       "   'vout': [{'value': 25.0,\n",
       "     'n': 0,\n",
       "     'scriptPubKey': {'asm': '0 ade0a2858e24da92c7cf1244c743d83ff6b0da23',\n",
       "      'desc': 'addr(bcrt1q4hs29pvwyndf9370zfzvws7c8lmtpk3r427ltz)#edpgjkqt',\n",
       "      'hex': '0014ade0a2858e24da92c7cf1244c743d83ff6b0da23',\n",
       "      'address': 'bcrt1q4hs29pvwyndf9370zfzvws7c8lmtpk3r427ltz',\n",
       "      'type': 'witness_v0_keyhash'}},\n",
       "    {'value': 0.0,\n",
       "     'n': 1,\n",
       "     'scriptPubKey': {'asm': 'OP_RETURN aa21a9ede2f61c3f71d1defd3fa999dfa36953755c690689799962b48bebd836974e8cf9',\n",
       "      'desc': 'raw(6a24aa21a9ede2f61c3f71d1defd3fa999dfa36953755c690689799962b48bebd836974e8cf9)#cav96mf3',\n",
       "      'hex': '6a24aa21a9ede2f61c3f71d1defd3fa999dfa36953755c690689799962b48bebd836974e8cf9',\n",
       "      'type': 'nulldata'}}],\n",
       "   'hex': '020000000001010000000000000000000000000000000000000000000000000000000000000000ffffffff0402fc0000ffffffff0200f9029500000000160014ade0a2858e24da92c7cf1244c743d83ff6b0da230000000000000000266a24aa21a9ede2f61c3f71d1defd3fa999dfa36953755c690689799962b48bebd836974e8cf90120000000000000000000000000000000000000000000000000000000000000000000000000'}]}"
      ]
     },
     "execution_count": 21,
     "metadata": {},
     "output_type": "execute_result"
    }
   ],
   "source": [
    "# Get block data\n",
    "block = json.loads(bcli(f\"getblock {blockhash} 2\"))\n",
    "block"
   ]
  },
  {
   "cell_type": "code",
   "execution_count": 22,
   "metadata": {},
   "outputs": [
    {
     "data": {
      "text/plain": [
       "{'txid': '72e184f19ed7abf61b5c50a3c9a215a515211e603a1b4ed3de911ec71dcaab06',\n",
       " 'hash': 'd93276d4c507fab0eb0b66b6e0a23f5179264311be0144171be4d7fb68920ca0',\n",
       " 'version': 2,\n",
       " 'size': 169,\n",
       " 'vsize': 142,\n",
       " 'weight': 568,\n",
       " 'locktime': 0,\n",
       " 'vin': [{'coinbase': '02fc0000',\n",
       "   'txinwitness': ['0000000000000000000000000000000000000000000000000000000000000000'],\n",
       "   'sequence': 4294967295}],\n",
       " 'vout': [{'value': 25.0,\n",
       "   'n': 0,\n",
       "   'scriptPubKey': {'asm': '0 ade0a2858e24da92c7cf1244c743d83ff6b0da23',\n",
       "    'desc': 'addr(bcrt1q4hs29pvwyndf9370zfzvws7c8lmtpk3r427ltz)#edpgjkqt',\n",
       "    'hex': '0014ade0a2858e24da92c7cf1244c743d83ff6b0da23',\n",
       "    'address': 'bcrt1q4hs29pvwyndf9370zfzvws7c8lmtpk3r427ltz',\n",
       "    'type': 'witness_v0_keyhash'}},\n",
       "  {'value': 0.0,\n",
       "   'n': 1,\n",
       "   'scriptPubKey': {'asm': 'OP_RETURN aa21a9ede2f61c3f71d1defd3fa999dfa36953755c690689799962b48bebd836974e8cf9',\n",
       "    'desc': 'raw(6a24aa21a9ede2f61c3f71d1defd3fa999dfa36953755c690689799962b48bebd836974e8cf9)#cav96mf3',\n",
       "    'hex': '6a24aa21a9ede2f61c3f71d1defd3fa999dfa36953755c690689799962b48bebd836974e8cf9',\n",
       "    'type': 'nulldata'}}],\n",
       " 'hex': '020000000001010000000000000000000000000000000000000000000000000000000000000000ffffffff0402fc0000ffffffff0200f9029500000000160014ade0a2858e24da92c7cf1244c743d83ff6b0da230000000000000000266a24aa21a9ede2f61c3f71d1defd3fa999dfa36953755c690689799962b48bebd836974e8cf90120000000000000000000000000000000000000000000000000000000000000000000000000'}"
      ]
     },
     "execution_count": 22,
     "metadata": {},
     "output_type": "execute_result"
    }
   ],
   "source": [
    "# Get transaction from block\n",
    "tx = block['tx'][0]\n",
    "tx"
   ]
  },
  {
   "cell_type": "code",
   "execution_count": 23,
   "metadata": {},
   "outputs": [],
   "source": [
    "# Create valid raw transaction\n",
    "tx_in = json.dumps([{\n",
    "    \"txid\": tx['txid'],\n",
    "    \"vout\": tx['vout'][0]['n']\n",
    "}], separators=(',', ':'))\n",
    "\n",
    "amount = tx['vout'][0]['value'] - 0.01\n",
    "\n",
    "tx_out = json.dumps([{\n",
    "    bcli(\"getnewaddress\"): amount\n",
    "}], separators=(',', ':'))\n",
    "\n",
    "raw_tx = bcli(f'createrawtransaction {tx_in} {tx_out}')"
   ]
  },
  {
   "cell_type": "code",
   "execution_count": 24,
   "metadata": {},
   "outputs": [
    {
     "data": {
      "text/plain": [
       "'0200000000010106abca1dc71e91ded34e1b3a601e2115a515a2c9a3505c1bf6abd79ef184e1720000000000fdffffff01c0b6f3940000000016001493d50a6d6677ee2840657ea867b63128f3b27b370247304402201f2aa0504fbe41cceac2db7306405bfde9f744268f6bbeb249b6d34609eb72700220760490a762e6bc9f390093deb0c2b686c212ee29043f4c54861629cc8c877e4701210288a4588d9cf866dcc8a8b21910f97846fa0f43c7fa754c6d4820a8673dc1083400000000'"
      ]
     },
     "execution_count": 24,
     "metadata": {},
     "output_type": "execute_result"
    }
   ],
   "source": [
    "# Sign transaction\n",
    "signed_tx = json.loads(bcli(f'signrawtransactionwithwallet {raw_tx}'))['hex']\n",
    "signed_tx"
   ]
  },
  {
   "cell_type": "code",
   "execution_count": 25,
   "metadata": {},
   "outputs": [
    {
     "data": {
      "text/plain": [
       "{'txid': '01662551f06debf625c73eda455ae33587a0254a9fd0ed156a987b40c434c526',\n",
       " 'wtxid': '551e47354bee833ccd34ce0a6bc4109c16e3ffe3b28a2058b6098ba8dacc4203',\n",
       " 'allowed': True,\n",
       " 'vsize': 110,\n",
       " 'fees': {'base': 0.01,\n",
       "  'effective-feerate': 0.09090909,\n",
       "  'effective-includes': ['551e47354bee833ccd34ce0a6bc4109c16e3ffe3b28a2058b6098ba8dacc4203']}}"
      ]
     },
     "execution_count": 25,
     "metadata": {},
     "output_type": "execute_result"
    }
   ],
   "source": [
    "# Check if is valid txW\n",
    "json.loads(bcli(f'testmempoolaccept [\"{signed_tx}\"]'))[0]"
   ]
  },
  {
   "cell_type": "code",
   "execution_count": 26,
   "metadata": {},
   "outputs": [
    {
     "data": {
      "text/plain": [
       "{'txid': '01662551f06debf625c73eda455ae33587a0254a9fd0ed156a987b40c434c526',\n",
       " 'hash': '01662551f06debf625c73eda455ae33587a0254a9fd0ed156a987b40c434c526',\n",
       " 'version': 2,\n",
       " 'size': 82,\n",
       " 'vsize': 82,\n",
       " 'weight': 328,\n",
       " 'locktime': 0,\n",
       " 'vin': [{'txid': '72e184f19ed7abf61b5c50a3c9a215a515211e603a1b4ed3de911ec71dcaab06',\n",
       "   'vout': 0,\n",
       "   'scriptSig': {'asm': '', 'hex': ''},\n",
       "   'sequence': 4294967293}],\n",
       " 'vout': [{'value': 24.99,\n",
       "   'n': 0,\n",
       "   'scriptPubKey': {'asm': '0 93d50a6d6677ee2840657ea867b63128f3b27b37',\n",
       "    'desc': 'addr(bcrt1qj02s5mtxwlhzssr9065x0d339remy7ehlv5rwn)#6v43xdht',\n",
       "    'hex': '001493d50a6d6677ee2840657ea867b63128f3b27b37',\n",
       "    'address': 'bcrt1qj02s5mtxwlhzssr9065x0d339remy7ehlv5rwn',\n",
       "    'type': 'witness_v0_keyhash'}}]}"
      ]
     },
     "execution_count": 26,
     "metadata": {},
     "output_type": "execute_result"
    }
   ],
   "source": [
    "# Decode transaction\n",
    "decoded_tx = json.loads(bcli(f'decoderawtransaction {raw_tx}'))\n",
    "decoded_tx"
   ]
  },
  {
   "cell_type": "code",
   "execution_count": 27,
   "metadata": {},
   "outputs": [
    {
     "data": {
      "text/plain": [
       "82"
      ]
     },
     "execution_count": 27,
     "metadata": {},
     "output_type": "execute_result"
    }
   ],
   "source": [
    "decoded_tx['version']\n",
    "decoded_tx['size']"
   ]
  },
  {
   "cell_type": "code",
   "execution_count": 28,
   "metadata": {},
   "outputs": [
    {
     "data": {
      "text/plain": [
       "{'txid': '01662551f06debf625c73eda455ae33587a0254a9fd0ed156a987b40c434c526',\n",
       " 'hash': '01662551f06debf625c73eda455ae33587a0254a9fd0ed156a987b40c434c526',\n",
       " 'version': 2,\n",
       " 'size': 82,\n",
       " 'vsize': 82,\n",
       " 'weight': 328,\n",
       " 'locktime': 0,\n",
       " 'vin': [{'txid': '72e184f19ed7abf61b5c50a3c9a215a515211e603a1b4ed3de911ec71dcaab06',\n",
       "   'vout': 0,\n",
       "   'scriptSig': {'asm': '', 'hex': ''},\n",
       "   'sequence': 4294967293}],\n",
       " 'vout': [{'value': 24.99,\n",
       "   'n': 0,\n",
       "   'scriptPubKey': {'asm': '0 93d50a6d6677ee2840657ea867b63128f3b27b37',\n",
       "    'desc': 'addr(bcrt1qj02s5mtxwlhzssr9065x0d339remy7ehlv5rwn)#6v43xdht',\n",
       "    'hex': '001493d50a6d6677ee2840657ea867b63128f3b27b37',\n",
       "    'address': 'bcrt1qj02s5mtxwlhzssr9065x0d339remy7ehlv5rwn',\n",
       "    'type': 'witness_v0_keyhash'}}]}"
      ]
     },
     "execution_count": 28,
     "metadata": {},
     "output_type": "execute_result"
    }
   ],
   "source": [
    "decoded_tx"
   ]
  },
  {
   "cell_type": "code",
   "execution_count": 46,
   "metadata": {},
   "outputs": [],
   "source": [
    "def split_transaction(txns):\n",
    "    offset = 0\n",
    "\n",
    "    version = txns[offset:offset+4]\n",
    "    offset += 4\n",
    "\n",
    "    marker = txns[offset:offset+1]\n",
    "    offset += 1\n",
    "\n",
    "    flag = txns[offset:offset+1]\n",
    "    offset += 1\n",
    "    \n",
    "    tx_in_count = txns[offset:offset+1]\n",
    "    offset += 1\n",
    "\n",
    "    tx_in = []\n",
    "    for _ in range(int.from_bytes(tx_in_count)):\n",
    "        previous_output = txns[offset:offset+36]\n",
    "        offset += 36\n",
    "\n",
    "        script_length = txns[offset:offset+1]\n",
    "        offset += 1\n",
    "\n",
    "        signature_script = txns[offset:offset+int.from_bytes(script_length)]\n",
    "        offset += int.from_bytes(script_length)\n",
    "\n",
    "        sequence = txns[offset:offset+4]\n",
    "        offset += 4\n",
    "\n",
    "        tx_in.append({\n",
    "            \"previous_output\": previous_output.hex(),\n",
    "            \"script_length\": script_length.hex(),\n",
    "            \"signature_script\": signature_script.hex(),\n",
    "            \"sequence\": sequence.hex()\n",
    "        })\n",
    "\n",
    "    tx_out_count = txns[offset:offset+1]\n",
    "    offset += 1\n",
    "\n",
    "    tx_out = []\n",
    "    for _ in range(int.from_bytes(tx_out_count)):\n",
    "        value = txns[offset:offset+8]\n",
    "        offset += 8\n",
    "\n",
    "        pk_script_length = txns[offset:offset+1]\n",
    "        offset += 1\n",
    "\n",
    "        pk_script = txns[offset:offset+int.from_bytes(pk_script_length)]\n",
    "        offset += int.from_bytes(pk_script_length)\n",
    "\n",
    "        tx_out.append({\n",
    "            \"value\": value.hex(),\n",
    "            \"pk_script_length\": pk_script_length.hex(),\n",
    "            \"pk_script\": pk_script.hex()\n",
    "        })\n",
    "\n",
    "    witness_count = txns[offset:offset+1]\n",
    "    offset += 1\n",
    "\n",
    "    witness = []\n",
    "    for _ in range(int.from_bytes(witness_count)):\n",
    "        size = txns[offset:offset+1]\n",
    "        offset += 1\n",
    "\n",
    "        item = txns[offset:offset+int.from_bytes(size)]\n",
    "        offset += int.from_bytes(size)\n",
    "\n",
    "        witness.append({\n",
    "            \"size\": size.hex(),\n",
    "            \"item\": item.hex()\n",
    "        })\n",
    "    \n",
    "    lock_time = txns[offset:offset+4]\n",
    "    offset += 4\n",
    "    \n",
    "    return {\n",
    "        \"version\": version.hex(),\n",
    "        \"marker\": marker.hex(),\n",
    "        \"flag\": flag.hex(),\n",
    "        \"tx_in_count\": tx_in_count.hex(),\n",
    "        \"tx_in\": tx_in,\n",
    "        \"tx_out_count\": tx_out_count.hex(),\n",
    "        \"tx_out\": tx_out,\n",
    "        \"witness\": witness,\n",
    "        \"lock_time\": lock_time.hex()\n",
    "    } "
   ]
  },
  {
   "cell_type": "code",
   "execution_count": 47,
   "metadata": {},
   "outputs": [
    {
     "data": {
      "text/plain": [
       "{'version': '02000000',\n",
       " 'marker': '00',\n",
       " 'flag': '01',\n",
       " 'tx_in_count': '01',\n",
       " 'tx_in': [{'previous_output': '06abca1dc71e91ded34e1b3a601e2115a515a2c9a3505c1bf6abd79ef184e17200000000',\n",
       "   'script_length': '00',\n",
       "   'signature_script': '',\n",
       "   'sequence': 'fdffffff'}],\n",
       " 'tx_out_count': '01',\n",
       " 'tx_out': [{'value': 'c0b6f39400000000',\n",
       "   'pk_script_length': '16',\n",
       "   'pk_script': '001493d50a6d6677ee2840657ea867b63128f3b27b37'}],\n",
       " 'witness': [{'size': '47',\n",
       "   'item': '304402201f2aa0504fbe41cceac2db7306405bfde9f744268f6bbeb249b6d34609eb72700220760490a762e6bc9f390093deb0c2b686c212ee29043f4c54861629cc8c877e4701'},\n",
       "  {'size': '21',\n",
       "   'item': '0288a4588d9cf866dcc8a8b21910f97846fa0f43c7fa754c6d4820a8673dc10834'}],\n",
       " 'lock_time': '00000000'}"
      ]
     },
     "execution_count": 47,
     "metadata": {},
     "output_type": "execute_result"
    }
   ],
   "source": [
    "split_transaction(bytes.fromhex(\"0200000000010106abca1dc71e91ded34e1b3a601e2115a515a2c9a3505c1bf6abd79ef184e1720000000000fdffffff01c0b6f3940000000016001493d50a6d6677ee2840657ea867b63128f3b27b370247304402201f2aa0504fbe41cceac2db7306405bfde9f744268f6bbeb249b6d34609eb72700220760490a762e6bc9f390093deb0c2b686c212ee29043f4c54861629cc8c877e4701210288a4588d9cf866dcc8a8b21910f97846fa0f43c7fa754c6d4820a8673dc1083400000000\"))"
   ]
  },
  {
   "cell_type": "code",
   "execution_count": null,
   "metadata": {},
   "outputs": [],
   "source": [
    "def split_block_transactions(count: int, txns: bytes) -> list:\n",
    "    offset = 0\n",
    "    transactions = []\n",
    "\n",
    "    for _ in range(count):\n",
    "        version = txns[offset:offset+4]\n",
    "        offset += 4\n",
    "        \n",
    "        tx_in_count = txns[offset:offset+1]\n",
    "        offset += 1\n",
    "\n",
    "        tx_in = bytes()\n",
    "        for _ in range(int.from_bytes(tx_in_count)):\n",
    "            previous_output = txns[offset:offset+36]\n",
    "            offset += 36\n",
    "\n",
    "            script_length = txns[offset:offset+1]\n",
    "            offset += 1\n",
    "\n",
    "            signature_script = txns[offset:offset+int.from_bytes(script_length)]\n",
    "            offset += int.from_bytes(script_length)\n",
    "\n",
    "            sequence = txns[offset:offset+4]\n",
    "            offset += 4\n",
    "\n",
    "            tx_in += previous_output + script_length + signature_script + sequence\n",
    "\n",
    "        tx_out_count = txns[offset:offset+1]\n",
    "        offset += 1\n",
    "\n",
    "        tx_out = bytes()\n",
    "        for _ in range(int.from_bytes(tx_out_count)):\n",
    "            value = txns[offset:offset+8]\n",
    "            offset += 8\n",
    "\n",
    "            pk_script_length = txns[offset:offset+1]\n",
    "            offset += 1\n",
    "\n",
    "            pk_script = txns[offset:offset+int.from_bytes(pk_script_length)]\n",
    "            offset += int.from_bytes(pk_script_length)\n",
    "\n",
    "            tx_out += value + pk_script_length + pk_script\n",
    "        \n",
    "        lock_time = txns[offset:offset+4]\n",
    "        offset += 4\n",
    "\n",
    "        transactions.append(version + tx_in_count + tx_in + tx_out_count + tx_out + lock_time)\n",
    "\n",
    "    return transactions"
   ]
  }
 ],
 "metadata": {
  "kernelspec": {
   "display_name": ".venv",
   "language": "python",
   "name": "python3"
  },
  "language_info": {
   "codemirror_mode": {
    "name": "ipython",
    "version": 3
   },
   "file_extension": ".py",
   "mimetype": "text/x-python",
   "name": "python",
   "nbconvert_exporter": "python",
   "pygments_lexer": "ipython3",
   "version": "3.12.3"
  }
 },
 "nbformat": 4,
 "nbformat_minor": 2
}
